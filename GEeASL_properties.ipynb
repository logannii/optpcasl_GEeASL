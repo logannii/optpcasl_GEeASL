{
 "cells": [
  {
   "attachments": {},
   "cell_type": "markdown",
   "id": "3eaefa08",
   "metadata": {},
   "source": [
    "This notebook calculates the properties for each possible protocol and save them into csv files. The notebook only has to run once to generate all the properties and save them into the data/ folder. "
   ]
  },
  {
   "cell_type": "code",
   "execution_count": 1,
   "id": "dress-terry",
   "metadata": {},
   "outputs": [],
   "source": [
    "# import the necessary libraries\n",
    "import numpy as np\n",
    "import matplotlib.pyplot as pp\n",
    "import plotly.graph_objects as go\n",
    "import GEeASL_functions as easl\n",
    "import scipy.io as sio\n",
    "import pandas as pd"
   ]
  },
  {
   "cell_type": "code",
   "execution_count": 4,
   "id": "mental-glucose",
   "metadata": {},
   "outputs": [
    {
     "name": "stdout",
     "output_type": "stream",
     "text": [
      "Calculating properties of protocol GEeASL7-CV4-4.0-CV5-4.0-CV7-1.0 ( 4860 of 4860 ) ...\n",
      "************  Calculation Process: 100.00%  ************\n"
     ]
    }
   ],
   "source": [
    "# calculates the properties except the oxford_asl-related ones and save them into csv files\n",
    "params7 = easl.set_params()\n",
    "for nSamp in [20,30,40]:\n",
    "    params7['nSamp'] = nSamp\n",
    "    df_protocol7_properties = easl.set_dataframe(params7)\n",
    "    df_protocol7_properties.to_csv('data/GEeASL7_protocol_properties_nSamp'+str(nSamp)+'.csv')\n",
    "\n",
    "params3 = easl.set_params()\n",
    "params3['nDelays'] = 3; params3['blocktime'] = 20; params3['blocktaperL'] = 5; params3['blocktaperR'] = 5\n",
    "for nSamp in [20,30,40]:\n",
    "    params3['nSamp'] = nSamp\n",
    "    df_protocol3_properties = easl.set_dataframe(params3)\n",
    "    df_protocol3_properties.to_csv('data/GEeASL3_protocol_properties_nSamp'+str(nSamp)+'.csv')"
   ]
  },
  {
   "cell_type": "code",
   "execution_count": null,
   "id": "349385a7",
   "metadata": {},
   "outputs": [],
   "source": [
    "# simulate images that can be processed by oxford_asl\n",
    "rootdir = '/Users/xinzhang/Downloads/optpcasl_GEeASL/'\n",
    "params7 = easl.set_params()\n",
    "for nSamp in [20,30,40]:\n",
    "    specification7 = 'GEeASL7-rand-nSamp'+str(nSamp)\n",
    "    easl.run_simulation(rootdir,params7,specification7)\n",
    "\n",
    "params3 = easl.set_params()\n",
    "params3['nDelays'] = 3; params3['blocktime'] = 20; params3['blocktaperL'] = 5; params3['blocktaperR'] = 5\n",
    "for nSamp in [20,30,40]:\n",
    "    specification3 = 'GEeASL3-rand-nSamp'+str(nSamp)\n",
    "    easl.run_simulation(rootdir,params3,specification3)"
   ]
  },
  {
   "attachments": {},
   "cell_type": "markdown",
   "id": "6a2f4a6d",
   "metadata": {},
   "source": [
    "Then run the shell scripts to analyse the simulated images. "
   ]
  },
  {
   "cell_type": "code",
   "execution_count": null,
   "metadata": {},
   "outputs": [],
   "source": [
    "# collect the results processed by oxford_asl\n",
    "estdir = '/Users/xinzhang/Downloads/optpcasl_GEeASL/sim_20220620_'\n",
    "params7 = easl.set_params()\n",
    "for nSamp in [20,30,40]:\n",
    "    estdir7 = estdir+'GEeASL7-rand-nSamp'+str(nSamp)+'/'\n",
    "    est7_oxford_asl = easl.get_estimation_oxford_asl(estdir7,params7)\n",
    "    sio.savemat(estdir7+'est_oxford_asl.mat',est7_oxford_asl)\n",
    "    est7_avg_oxford_asl = easl.get_estimation_avg_oxford_asl(estdir7,params7,est7_oxford_asl)\n",
    "    sio.savemat(estdir7+'est_avg_oxford_asl.mat',est7_avg_oxford_asl)\n",
    "\n",
    "    df7_oxford_asl = [[],[],[],[],[],[],[],[]]\n",
    "    df7 = pd.read_csv('data/GEeASL7_protocol_properties_nSamp'+str(nSamp)+'.csv')\n",
    "    for i in range(len(df7['isFitBlock'])):\n",
    "        test = df7['isFitBlock'] == 1\n",
    "        df7_oxford_asl[0] = np.append(df7_oxford_asl[0],lambda test: est7_avg_oxford_asl[df7['name'][i]+'_nomvc_asl_gkm_cbferr_mean'] if test else np.nan)\n",
    "        df7_oxford_asl[1] = np.append(df7_oxford_asl[1],lambda test: est7_avg_oxford_asl[df7['name'][i]+'_nomvc_asl_gkm_cbferr_sd'] if test else np.nan)\n",
    "        df7_oxford_asl[2] = np.append(df7_oxford_asl[2],lambda test: est7_avg_oxford_asl[df7['name'][i]+'_nomvc_asl_gkm_atterr_mean'] if test else np.nan)\n",
    "        df7_oxford_asl[3] = np.append(df7_oxford_asl[3],lambda test: est7_avg_oxford_asl[df7['name'][i]+'_nomvc_asl_gkm_atterr_sd'] if test else np.nan)\n",
    "        df7_oxford_asl[4] = np.append(df7_oxford_asl[4],lambda test: est7_avg_oxford_asl[df7['name'][i]+'_nomvc_asl_gkm_cbfabserr_mean'] if test else np.nan)\n",
    "        df7_oxford_asl[5] = np.append(df7_oxford_asl[5],lambda test: est7_avg_oxford_asl[df7['name'][i]+'_nomvc_asl_gkm_cbfabserr_sd'] if test else np.nan)\n",
    "        df7_oxford_asl[6] = np.append(df7_oxford_asl[6],lambda test: est7_avg_oxford_asl[df7['name'][i]+'_nomvc_asl_gkm_attabserr_mean'] if test else np.nan)\n",
    "        df7_oxford_asl[7] = np.append(df7_oxford_asl[7],lambda test: est7_avg_oxford_asl[df7['name'][i]+'_nomvc_asl_gkm_attabserr_sd'] if test else np.nan)\n",
    "    oxford_asl_properties = {'oxford_asl_CBFerr_mean (%)':df7_oxford_asl[0],\n",
    "                            'oxford_asl_CBFerr_sd (%)':df7_oxford_asl[1],\n",
    "                            'oxford_asl_ATTerr_mean (%)':df7_oxford_asl[2],\n",
    "                            'oxford_asl_ATTerr_sd (%)':df7_oxford_asl[3],\n",
    "                            'oxford_asl_CBFabserr_mean (%)':df7_oxford_asl[4],\n",
    "                            'oxford_asl_CBFabserr_sd (%)':df7_oxford_asl[5],\n",
    "                            'oxford_asl_ATTabserr_mean (%)':df7_oxford_asl[6],\n",
    "                            'oxford_asl_ATTabserr_sd (%)':df7_oxford_asl[7]}\n",
    "    df7_oxford_asl_properties = pd.DataFrame(oxford_asl_properties)\n",
    "    df7 = pd.concat([df7,df7_oxford_asl_properties],axis=1)\n",
    "    df7.to_csv('data/GEeASL7_protocol_properties_nSamp'+str(nSamp)+'.csv')\n",
    "\n",
    "# now do the same for the 3 delays version\n",
    "estdir = '/Users/xinzhang/Downloads/optpcasl_GEeASL/sim_20220620_'\n",
    "params3 = easl.set_params()\n",
    "params3['nDelays'] = 3; params3['blocktime'] = 20; params3['blocktaperL'] = 5; params3['blocktaperR'] = 5\n",
    "for nSamp in [20,30,40]:\n",
    "    estdir3 = estdir+'GEeASL3-rand-nSamp'+str(nSamp)+'/'\n",
    "    est3_oxford_asl = easl.get_estimation_oxford_asl(estdir3,params3)\n",
    "    sio.savemat(estdir3+'est_oxford_asl.mat',est3_oxford_asl)\n",
    "    est3_avg_oxford_asl = easl.get_estimation_avg_oxford_asl(estdir3,params3,est3_oxford_asl)\n",
    "    sio.savemat(estdir3+'est_avg_oxford_asl.mat',est3_avg_oxford_asl)\n",
    "\n",
    "    df3_oxford_asl = [[],[],[],[],[],[],[],[]]\n",
    "    df3 = pd.read_csv('data/GEeASL3_protocol_properties_nSamp'+str(nSamp)+'.csv')\n",
    "    for i in range(len(df3['isFitBlock'])):\n",
    "        test = df3['isFitBlock'] == 1\n",
    "        df3_oxford_asl[0] = np.append(df3_oxford_asl[0],lambda test: est3_avg_oxford_asl[df3['name'][i]+'_nomvc_asl_gkm_cbferr_mean'] if test else np.nan)\n",
    "        df3_oxford_asl[1] = np.append(df3_oxford_asl[1],lambda test: est3_avg_oxford_asl[df3['name'][i]+'_nomvc_asl_gkm_cbferr_sd'] if test else np.nan)\n",
    "        df3_oxford_asl[2] = np.append(df3_oxford_asl[2],lambda test: est3_avg_oxford_asl[df3['name'][i]+'_nomvc_asl_gkm_atterr_mean'] if test else np.nan)\n",
    "        df3_oxford_asl[3] = np.append(df3_oxford_asl[3],lambda test: est3_avg_oxford_asl[df3['name'][i]+'_nomvc_asl_gkm_atterr_sd'] if test else np.nan)\n",
    "        df3_oxford_asl[4] = np.append(df3_oxford_asl[4],lambda test: est3_avg_oxford_asl[df3['name'][i]+'_nomvc_asl_gkm_cbfabserr_mean'] if test else np.nan)\n",
    "        df3_oxford_asl[5] = np.append(df3_oxford_asl[5],lambda test: est3_avg_oxford_asl[df3['name'][i]+'_nomvc_asl_gkm_cbfabserr_sd'] if test else np.nan)\n",
    "        df3_oxford_asl[6] = np.append(df3_oxford_asl[6],lambda test: est3_avg_oxford_asl[df3['name'][i]+'_nomvc_asl_gkm_attabserr_mean'] if test else np.nan)\n",
    "        df3_oxford_asl[7] = np.append(df3_oxford_asl[7],lambda test: est3_avg_oxford_asl[df3['name'][i]+'_nomvc_asl_gkm_attabserr_sd'] if test else np.nan)\n",
    "    oxford_asl_properties = {'oxford_asl_CBFerr_mean (%)':df3_oxford_asl[0],\n",
    "                            'oxford_asl_CBFerr_sd (%)':df3_oxford_asl[1],\n",
    "                            'oxford_asl_ATTerr_mean (%)':df3_oxford_asl[2],\n",
    "                            'oxford_asl_ATTerr_sd (%)':df3_oxford_asl[3],\n",
    "                            'oxford_asl_CBFabserr_mean (%)':df3_oxford_asl[4],\n",
    "                            'oxford_asl_CBFabserr_sd (%)':df3_oxford_asl[5],\n",
    "                            'oxford_asl_ATTabserr_mean (%)':df3_oxford_asl[6],\n",
    "                            'oxford_asl_ATTabserr_sd (%)':df3_oxford_asl[7]}\n",
    "    df3_oxford_asl_properties = pd.DataFrame(oxford_asl_properties)\n",
    "    df3 = pd.concat([df3,df3_oxford_asl_properties],axis=1)\n",
    "    df3.to_csv('data/GEeASL3_protocol_properties_nSamp'+str(nSamp)+'.csv')"
   ]
  },
  {
   "attachments": {},
   "cell_type": "markdown",
   "id": "ca75d673",
   "metadata": {},
   "source": [
    "All properties now should be saved in the csv files in the data/ folder. See GEeASL_demonstration.ipynb for visualisation. "
   ]
  },
  {
   "cell_type": "code",
   "execution_count": 5,
   "id": "compatible-surveillance",
   "metadata": {},
   "outputs": [
    {
     "name": "stdout",
     "output_type": "stream",
     "text": [
      "Calculating properties of protocol GEeASL3-CV4-4.0-CV5-4.0-CV7-1.0 ( 4860 of 4860 ) ...\n",
      "************  Calculation Process: 100.00%  ************\n"
     ]
    }
   ],
   "source": [
    "# params3 = easl.set_params(mode='rand')\n",
    "# params3['nDelays'] = 3\n",
    "# params3['blocktime'] = 20\n",
    "# params3['blocktaperL'] = 5\n",
    "# params3['blocktaperR'] = 5\n",
    "# params3['nSamp'] = 30\n",
    "# df_protocol3_properties = easl.set_dataframe(params3)\n",
    "# df_protocol3_properties.to_csv('GEeASL3_protocol_properties_nSamp30.csv')"
   ]
  },
  {
   "cell_type": "code",
   "execution_count": null,
   "id": "resistant-character",
   "metadata": {},
   "outputs": [],
   "source": [
    "params7 = easl.set_params()\n",
    "df_protocol7_properties = pd.read_csv('GEeASL7_protocol_properties_nSamp20.csv')\n",
    "fxyz = np.reshape(df_protocol7_properties['nlls_ATTabserr_sd (%)'].to_list(),\n",
    "                  (len(params7['minPLDs']),len(params7['totalLDs']),len(params7['delaylins'])))\n",
    "xarray = params7['minPLDs']; yarray = params7['totalLDs']; zarray = params7['delaylins']\n",
    "titles_list = ['minPLD','totalLD','delaylin']\n",
    "findlb = [0.7,2.0,0.0]; findub = [4.0,4.0,1.0]\n",
    "fig = easl.visualise_3d(xarray,yarray,zarray,fxyz,titles_list,findmax=True,findmin=True,findlb=findlb,findub=findub)\n",
    "fig.show()"
   ]
  },
  {
   "cell_type": "code",
   "execution_count": null,
   "id": "serial-photograph",
   "metadata": {},
   "outputs": [],
   "source": [
    "params3 = easl.set_params(); params3['nDelays'] = 3\n",
    "df_protocol3_properties = pd.read_csv('GEeASL3_protocol_properties_nSamp20.csv')\n",
    "fxyz = np.reshape(df_protocol3_properties['nlls_ATTabserr_mean (%)'].to_list(),\n",
    "                  (len(params3['minPLDs']),len(params3['totalLDs']),len(params3['delaylins'])))\n",
    "xarray = params3['minPLDs']\n",
    "yarray = params3['totalLDs']\n",
    "zarray = params3['delaylins']\n",
    "titles_list = ['CV4 = minPLD (s)','CV5 = totalLD (s)','CV7 = delaylin']\n",
    "findlb = [0.7,2.0,0.0]\n",
    "findub = [4.0,4.0,1.0]\n",
    "fig = easl.visualise_3d(xarray,yarray,zarray,fxyz,titles_list,\n",
    "                       findmax=True,findmin=True,findlb=findlb,findub=findub)\n",
    "fig.show()"
   ]
  },
  {
   "cell_type": "code",
   "execution_count": null,
   "id": "christian-electronics",
   "metadata": {},
   "outputs": [],
   "source": [
    "params7 = easl.set_params(mode='rand')\n",
    "protocol7_properties = easl.get_protocol_properties(params7)\n",
    "sio.savemat('GEeASL7_protocol_properties.mat',protocol7_properties)\n",
    "\n",
    "params3 = easl.set_params(mode='rand')\n",
    "params3['nDelays'] = 3\n",
    "protocol3_properties = easl.get_protocol_properties(params3)\n",
    "sio.savemat('GEeASL3_protocol_properties.mat',protocol3_properties)"
   ]
  },
  {
   "cell_type": "code",
   "execution_count": null,
   "id": "adequate-press",
   "metadata": {
    "scrolled": false
   },
   "outputs": [],
   "source": [
    "# properties that can be visualised: 'scantime_1rpt','scantime','nRepeatIn1Block','idletime',\n",
    "# 'nVolume','signalSqrtSum','wholeSNR','tSNR'\n",
    "rootdir = '/Users/xinzhang/Downloads/optpcasl_cic_GEeASL/'\n",
    "protocol7_properties = sio.loadmat(rootdir+'GEeASL7_protocol_properties.mat')\n",
    "params7 = easl.set_params(mode='rand')\n",
    "# params3['nDelays'] = 3\n",
    "xarray = params7['minPLDs']\n",
    "yarray = params7['totalLDs']\n",
    "zarray = params7['delaylins']\n",
    "titles_list = ['CV4 = minPLD (s)','CV5 = totalLD (s)','CV7 = delaylin']\n",
    "findlb = [0.7,2.0,0.0]\n",
    "findub = [4.0,4.0,1.0]\n",
    "fig = easl.visualise_3d(xarray,yarray,zarray,protocol7_properties['tSNR'],titles_list,\n",
    "                       findmax=True,findmin=True,findlb=findlb,findub=findub)\n",
    "fig.show()"
   ]
  },
  {
   "cell_type": "markdown",
   "id": "pretty-village",
   "metadata": {},
   "source": [
    "# Running simulation"
   ]
  },
  {
   "cell_type": "code",
   "execution_count": null,
   "id": "conscious-handle",
   "metadata": {},
   "outputs": [],
   "source": [
    "rootdir = '/Users/xinzhang/Downloads/optpcasl_cic_GEeASL/'\n",
    "# simulation using a single combination of parameter value, and simulate_image_single\n",
    "# params7 = asl.set_params(mode='comb')\n",
    "# simulation using uniform distributions of parameter ranges, and simulate_image_volume\n",
    "params7 = easl.set_params(mode='rand')\n",
    "specification7 = 'GEeASL7-rand'\n",
    "easl.run_simulation(rootdir,params7,specification7)"
   ]
  },
  {
   "cell_type": "code",
   "execution_count": null,
   "id": "irish-spring",
   "metadata": {},
   "outputs": [],
   "source": [
    "params3 = easl.set_params(mode='rand')\n",
    "params3['nDelays'] = 3\n",
    "specification3 = 'GEeASL3-rand'\n",
    "easl.run_simulation(rootdir,params3,specification3)"
   ]
  },
  {
   "cell_type": "markdown",
   "id": "downtown-england",
   "metadata": {
    "scrolled": false
   },
   "source": [
    "# Collecting estimation results after running oxford_asl"
   ]
  },
  {
   "cell_type": "code",
   "execution_count": null,
   "id": "eastern-figure",
   "metadata": {
    "scrolled": true
   },
   "outputs": [],
   "source": [
    "params7 = easl.set_params(mode='rand')\n",
    "estdir7 = '/Users/xinzhang/Downloads/optpcasl_cic_GEeASL/sim_20220604_GEeASL7-rand/'\n",
    "est7_oxford_asl = easl.get_estimation_oxford_asl(estdir7,params7)\n",
    "sio.savemat(estdir7+'est_oxford_asl.mat',est7_oxford_asl)\n",
    "\n",
    "params3 = easl.set_params(mode='rand')\n",
    "params3['nDelays'] = 3\n",
    "estdir3 = '/Users/xinzhang/Downloads/optpcasl_cic_GEeASL/sim_20220605_GEeASL3-rand/'\n",
    "est3_oxford_asl = easl.get_estimation_oxford_asl(estdir3,params3)\n",
    "sio.savemat(estdir3+'est_oxford_asl.mat',est3_oxford_asl)"
   ]
  },
  {
   "cell_type": "code",
   "execution_count": null,
   "id": "binding-server",
   "metadata": {},
   "outputs": [],
   "source": [
    "params7 = easl.set_params(mode='rand')\n",
    "estdir7 = '/Users/xinzhang/Downloads/optpcasl_cic_GEeASL/sim_20220604_GEeASL7-rand/'\n",
    "est7_oxford_asl = sio.loadmat(estdir7+'est_oxford_asl.mat')\n",
    "params3 = easl.set_params(mode='rand')\n",
    "params3['nDelays'] = 3\n",
    "estdir3 = '/Users/xinzhang/Downloads/optpcasl_cic_GEeASL/sim_20220605_GEeASL3-rand/'\n",
    "est3_oxford_asl = sio.loadmat(estdir3+'est_oxford_asl.mat')"
   ]
  },
  {
   "cell_type": "code",
   "execution_count": null,
   "id": "disciplinary-climate",
   "metadata": {},
   "outputs": [],
   "source": [
    "params7['minPLDs'] = np.arange(0.1,4.1,0.2)\n",
    "params7['totalLDs'] = np.arange(2.0,4.2,0.2)\n",
    "params7['delaylins'] = np.arange(0.0,1.2,0.2)\n",
    "est7_oxford_asl_avg = easl.get_estimation_avg_oxford_asl(estdir7,params7,est7_oxford_asl)\n",
    "sio.savemat(estdir7+'est_oxford_asl_avg.mat',est7_oxford_asl_avg)\n",
    "params3['minPLDs'] = np.arange(0.1,4.1,0.2)\n",
    "params3['totalLDs'] = np.arange(2.0,4.2,0.2)\n",
    "params3['delaylins'] = np.arange(0.0,1.2,0.2)\n",
    "est3_oxford_asl_avg = easl.get_estimation_avg_oxford_asl(estdir3,params3,est3_oxford_asl)\n",
    "sio.savemat(estdir3+'est_oxford_asl_avg.mat',est3_oxford_asl_avg)"
   ]
  },
  {
   "cell_type": "code",
   "execution_count": null,
   "id": "general-english",
   "metadata": {},
   "outputs": [],
   "source": [
    "estdir7 = '/Users/xinzhang/Downloads/optpcasl_cic_GEeASL/sim_20220604_GEeASL7-rand/'\n",
    "params7 = easl.set_params(mode='rand')\n",
    "est7_oxford_asl = sio.loadmat(estdir7+'est_oxford_asl.mat')\n",
    "# est7_oxford_asl_avg = sio.loadmat(estdir7+'est_oxford_asl_avg.mat')\n",
    "estdir3 = '/Users/xinzhang/Downloads/optpcasl_cic_GEeASL/sim_20220605_GEeASL3-rand/'\n",
    "params3 = easl.set_params(mode='rand')\n",
    "params3['nDelays'] = 3\n",
    "est3_oxford_asl = sio.loadmat(estdir3+'est_oxford_asl.mat')\n",
    "# est3_oxford_asl_avg = sio.loadmat(estdir3+'est_oxford_asl_avg.mat')"
   ]
  },
  {
   "cell_type": "code",
   "execution_count": null,
   "id": "violent-paper",
   "metadata": {},
   "outputs": [],
   "source": [
    "xarray = params7['minPLDs']\n",
    "yarray = params7['totalLDs']\n",
    "zarray = params7['delaylins']\n",
    "titles_list = ['CV4 = minPLD (s)','CV5 = totalLD (s)','CV7 = delaylin']\n",
    "fig = easl.visualise_3d(xarray,yarray,zarray,est7_oxford_asl_avg['nomvc_asl_gkm_cbfabserrmean'],titles_list,findmax=True,findmin=True)\n",
    "fig.show()"
   ]
  },
  {
   "cell_type": "code",
   "execution_count": null,
   "id": "chemical-client",
   "metadata": {},
   "outputs": [],
   "source": [
    "cbfgt = est7_oxford_asl['GEeASL7-CV4-0.3-CV5-4.0-CV7-0.0_nomvc_asl_gkm_cbfgt']\n",
    "cbfmean = est7_oxford_asl['GEeASL7-CV4-0.3-CV5-4.0-CV7-0.0_nomvc_asl_gkm_cbfmean']\n",
    "cbferr = (cbfmean-cbfgt)/cbfgt*100\n",
    "\n",
    "n,bins,patches = pp.hist(cbfmean,bins=100)\n",
    "print(np.sum(cbferr)/len(cbferr))"
   ]
  },
  {
   "cell_type": "code",
   "execution_count": null,
   "id": "referenced-reasoning",
   "metadata": {},
   "outputs": [],
   "source": []
  },
  {
   "cell_type": "code",
   "execution_count": null,
   "id": "public-fiction",
   "metadata": {},
   "outputs": [],
   "source": []
  }
 ],
 "metadata": {
  "kernelspec": {
   "display_name": "Python 3",
   "language": "python",
   "name": "python3"
  },
  "language_info": {
   "codemirror_mode": {
    "name": "ipython",
    "version": 3
   },
   "file_extension": ".py",
   "mimetype": "text/x-python",
   "name": "python",
   "nbconvert_exporter": "python",
   "pygments_lexer": "ipython3",
   "version": "3.8.9"
  },
  "vscode": {
   "interpreter": {
    "hash": "31f2aee4e71d21fbe5cf8b01ff0e069b9275f58929596ceb00d14d90e3e16cd6"
   }
  }
 },
 "nbformat": 4,
 "nbformat_minor": 5
}
